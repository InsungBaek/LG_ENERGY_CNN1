{
 "cells": [
  {
   "cell_type": "markdown",
   "metadata": {},
   "source": [
    "# 필요한 Package 불러오기"
   ]
  },
  {
   "cell_type": "code",
   "execution_count": 1,
   "metadata": {},
   "outputs": [],
   "source": [
    "import os\n",
    "import copy\n",
    "import time\n",
    "import numpy as np\n",
    "import matplotlib.pyplot as plt\n",
    "\n",
    "import torch\n",
    "import torch.nn as nn\n",
    "\n",
    "import torchvision\n",
    "from torchvision import datasets, models, transforms\n",
    "\n",
    "plt.ion()"
   ]
  },
  {
   "cell_type": "code",
   "execution_count": 2,
   "metadata": {},
   "outputs": [],
   "source": [
    "# HyperParameters\n",
    "epochs = 25\n",
    "batch_size = 4\n",
    "learning_rate = 0.001\n",
    "num_class = 2"
   ]
  },
  {
   "cell_type": "markdown",
   "metadata": {},
   "source": [
    "# 재현선을 위한 Seed / Random State 고정"
   ]
  },
  {
   "cell_type": "code",
   "execution_count": 3,
   "metadata": {},
   "outputs": [
    {
     "data": {
      "text/plain": [
       "<torch._C.Generator at 0x1e8bca10978>"
      ]
     },
     "execution_count": 3,
     "metadata": {},
     "output_type": "execute_result"
    }
   ],
   "source": [
    "seed = 777\n",
    "np.random.seed(seed)\n",
    "torch.manual_seed(seed)"
   ]
  },
  {
   "cell_type": "markdown",
   "metadata": {},
   "source": [
    "# 데이터 정의\n",
    "\n",
    "데이터 종류: 고양이 / 강아지 이미지\n",
    "\n",
    "목적: 고양이와 강아지를 분류하는 모델 학습\n",
    "\n",
    "Train: 데이터 증강(Data Augmentation) 기법과 데이터 정규화 진행(Normalization)\n",
    "\n",
    "Validation: 데이터 증강 기법 제외"
   ]
  },
  {
   "cell_type": "code",
   "execution_count": 4,
   "metadata": {},
   "outputs": [],
   "source": [
    "# Data 경로 설정\n",
    "data_dir = './dog_cat'\n",
    "\n",
    "# Data Transformation Option -- Data Augmentation, Normalization\n",
    "data_transforms = {\n",
    "    'train':transforms.Compose([\n",
    "        transforms.RandomResizedCrop(224),\n",
    "        transforms.RandomHorizontalFlip(),\n",
    "        transforms.ToTensor(),\n",
    "        transforms.Normalize([0.485, 0.456, 0.406], [0.229, 0.224, 0.225])\n",
    "    ]),\n",
    "    'val':transforms.Compose([\n",
    "        transforms.Resize(256),\n",
    "        transforms.CenterCrop(224),\n",
    "        transforms.ToTensor(),\n",
    "        transforms.Normalize([0.485, 0.456, 0.406], [0.229, 0.224, 0.225])\n",
    "    ]),\n",
    "}\n",
    "\n",
    "# Define Train & Validation dataset & Data loader\n",
    "image_datasets = {x: datasets.ImageFolder(\n",
    "    os.path.join(data_dir, x), data_transforms[x]) \n",
    "                  for x in ['train','val']}\n",
    "\n",
    "dataloaders = {x: torch.utils.data.DataLoader(\n",
    "    image_datasets[x], batch_size=batch_size, shuffle=True, num_workers=4) \n",
    "               for x in ['train', 'val']}\n",
    "\n",
    "dataset_sizes = {x: len(image_datasets[x]) for x in ['train','val']}\n",
    "\n",
    "class_name = image_datasets['train'].classes"
   ]
  },
  {
   "cell_type": "markdown",
   "metadata": {},
   "source": [
    "# Pretrained VGG16 모델 불러오기"
   ]
  },
  {
   "cell_type": "code",
   "execution_count": 5,
   "metadata": {},
   "outputs": [],
   "source": [
    "vgg16 = models.vgg16(pretrained=True)"
   ]
  },
  {
   "cell_type": "markdown",
   "metadata": {},
   "source": [
    "# Fine Tuning: 마지막 Fully Connected Layer (Linear)\n",
    "\n",
    "Pretrained VGG16을 로드하고 마지막 Fully Connected Layer를 재설정\n",
    "\n",
    "** Fine Tuining 하고자 하는 레이어를 제외한 나머지 레이어는 고정해야 함\n",
    "즉, Gradient Backpropagation 시, 모델 파라미터가 계산되지 않도록 고정\n",
    "\n",
    "requires_grad == False"
   ]
  },
  {
   "cell_type": "code",
   "execution_count": 6,
   "metadata": {},
   "outputs": [],
   "source": [
    "for param in vgg16.parameters():\n",
    "    param.requires_graduires_grad = False\n",
    "    \n",
    "# Parameters of newly constructed modules have requires_grad=True by default\n",
    "num_in = vgg16.classifier[-1].in_features\n",
    "vgg16.classifier[-1] = nn.Linear(num_in, num_class)"
   ]
  },
  {
   "cell_type": "markdown",
   "metadata": {},
   "source": [
    "# Model, Optimizer, Criterion, Lr Shceduler 선언"
   ]
  },
  {
   "cell_type": "code",
   "execution_count": 7,
   "metadata": {},
   "outputs": [],
   "source": [
    "vgg16 = vgg16\n",
    "optimizer = torch.optim.SGD(vgg16.classifier[-1].parameters(),\n",
    "                           lr=learning_rate,\n",
    "                           momentum=0.9)\n",
    "criterion = nn.CrossEntropyLoss()\n",
    "\n",
    "# Scheduling a learning rate according to specific conditions\n",
    "lr_scheduler = torch.optim.lr_scheduler.StepLR(optimizer,\n",
    "                                               step_size=7,\n",
    "                                               gamma=0.1)"
   ]
  },
  {
   "cell_type": "markdown",
   "metadata": {},
   "source": [
    "# 모델 학습\n",
    "\n",
    "모델 학습 및 검증을 위한 Definition"
   ]
  },
  {
   "cell_type": "code",
   "execution_count": 8,
   "metadata": {},
   "outputs": [],
   "source": [
    "def trainer(model: nn.Module, \n",
    "            criterion: nn, \n",
    "            optimizer: torch.optim, \n",
    "            lr_scheduler: torch.optim.lr_scheduler) -> nn.Module:\n",
    "    \n",
    "    since = time.time()\n",
    "    \n",
    "    best_model = copy.deepcopy(model.state_dict())\n",
    "    best_acc = 0.0\n",
    "    \n",
    "    for epoch in range(epochs):\n",
    "        print(f'Epoch {epoch}/{epochs-1}')\n",
    "        print('-' * 10)\n",
    "        \n",
    "        # Each epoch has a training and validation phase\n",
    "        for phase in ['train', 'val']:\n",
    "            if phase == 'train':\n",
    "                lr_scheduler.step()\n",
    "                model.train()  # Set model to training mode\n",
    "            \n",
    "            else:\n",
    "                model.eval()  # Set model to evaluate mode\n",
    "            \n",
    "            running_loss = 0.0\n",
    "            running_corrects = 0\n",
    "            \n",
    "            # Iterate over data\n",
    "            for inputs, targets in dataloaders[phase]:\n",
    "                \n",
    "                # track history if only in train\n",
    "                with torch.set_grad_enabled(phase == 'train'):\n",
    "                    outputs = model(inputs)\n",
    "                    _, preds = torch.max(outputs, 1)\n",
    "                    loss = criterion(outputs, targets)\n",
    "                    \n",
    "                    # Backward + optimize only if in training phase\n",
    "                    # Zero the parameter gradients\n",
    "                    if phase == 'train':\n",
    "                        optimizer.zero_grad()\n",
    "                        loss.backward()\n",
    "                        optimizer.step()\n",
    "                        \n",
    "                # statistics\n",
    "                running_loss += loss.item() * inputs.size(0)\n",
    "                running_corrects += torch.sum(preds == targets.data)\n",
    "            \n",
    "            epoch_loss = running_loss / dataset_sizes[phase]\n",
    "            epoch_acc = running_corrects.double() / dataset_sizes[phase]\n",
    "            \n",
    "            print(f'{phase} Loss: {epoch_loss:.4f}, Acc: {epoch_acc:.4f}')\n",
    "            \n",
    "            # deep copy the model\n",
    "            if phase == 'val' and epoch_acc > best_acc:\n",
    "                best_acc = epoch_acc\n",
    "                best_model = copy.deepcopy(model.state_dict())\n",
    "    \n",
    "    time_elapsed = time.time() - since\n",
    "    print(f'Training Complete in {time_elapsed // 60:.0f}m {time_elapsed % 60:.0f}s')\n",
    "    print(f'Best Val Acc: {best_acc:.4f}')\n",
    "    \n",
    "    # load best model weights\n",
    "    model.load_state_dict(best_model)\n",
    "    \n",
    "    return model                              "
   ]
  },
  {
   "cell_type": "code",
   "execution_count": 9,
   "metadata": {
    "scrolled": true
   },
   "outputs": [
    {
     "name": "stdout",
     "output_type": "stream",
     "text": [
      "Epoch 0/24\n",
      "----------\n"
     ]
    },
    {
     "name": "stderr",
     "output_type": "stream",
     "text": [
      "C:\\Users\\youngjae\\Anaconda3\\envs\\rl\\lib\\site-packages\\torch\\optim\\lr_scheduler.py:134: UserWarning: Detected call of `lr_scheduler.step()` before `optimizer.step()`. In PyTorch 1.1.0 and later, you should call them in the opposite order: `optimizer.step()` before `lr_scheduler.step()`.  Failure to do this will result in PyTorch skipping the first value of the learning rate schedule. See more details at https://pytorch.org/docs/stable/optim.html#how-to-adjust-learning-rate\n",
      "  \"https://pytorch.org/docs/stable/optim.html#how-to-adjust-learning-rate\", UserWarning)\n"
     ]
    },
    {
     "name": "stdout",
     "output_type": "stream",
     "text": [
      "train Loss: 0.2858, Acc: 0.8663\n",
      "val Loss: 0.0288, Acc: 1.0000\n",
      "Epoch 1/24\n",
      "----------\n",
      "train Loss: 0.1064, Acc: 0.9356\n",
      "val Loss: 0.0165, Acc: 1.0000\n",
      "Epoch 2/24\n",
      "----------\n",
      "train Loss: 0.1852, Acc: 0.9158\n",
      "val Loss: 0.0146, Acc: 1.0000\n",
      "Epoch 3/24\n",
      "----------\n",
      "train Loss: 0.1311, Acc: 0.9505\n",
      "val Loss: 0.0068, Acc: 1.0000\n",
      "Epoch 4/24\n",
      "----------\n",
      "train Loss: 0.1020, Acc: 0.9653\n",
      "val Loss: 0.0084, Acc: 1.0000\n",
      "Epoch 5/24\n",
      "----------\n",
      "train Loss: 0.1864, Acc: 0.9356\n",
      "val Loss: 0.0088, Acc: 1.0000\n",
      "Epoch 6/24\n",
      "----------\n",
      "train Loss: 0.1105, Acc: 0.9653\n",
      "val Loss: 0.0081, Acc: 1.0000\n",
      "Epoch 7/24\n",
      "----------\n",
      "train Loss: 0.1114, Acc: 0.9455\n",
      "val Loss: 0.0093, Acc: 1.0000\n",
      "Epoch 8/24\n",
      "----------\n",
      "train Loss: 0.0736, Acc: 0.9703\n",
      "val Loss: 0.0083, Acc: 1.0000\n",
      "Epoch 9/24\n",
      "----------\n",
      "train Loss: 0.1061, Acc: 0.9554\n",
      "val Loss: 0.0079, Acc: 1.0000\n",
      "Epoch 10/24\n",
      "----------\n",
      "train Loss: 0.0700, Acc: 0.9703\n",
      "val Loss: 0.0077, Acc: 1.0000\n",
      "Epoch 11/24\n",
      "----------\n",
      "train Loss: 0.0571, Acc: 0.9752\n",
      "val Loss: 0.0074, Acc: 1.0000\n",
      "Epoch 12/24\n",
      "----------\n",
      "train Loss: 0.1065, Acc: 0.9703\n",
      "val Loss: 0.0064, Acc: 1.0000\n",
      "Epoch 13/24\n",
      "----------\n",
      "train Loss: 0.0971, Acc: 0.9752\n",
      "val Loss: 0.0064, Acc: 1.0000\n",
      "Epoch 14/24\n",
      "----------\n",
      "train Loss: 0.0890, Acc: 0.9604\n",
      "val Loss: 0.0063, Acc: 1.0000\n",
      "Epoch 15/24\n",
      "----------\n",
      "train Loss: 0.0644, Acc: 0.9752\n",
      "val Loss: 0.0064, Acc: 1.0000\n",
      "Epoch 16/24\n",
      "----------\n",
      "train Loss: 0.0882, Acc: 0.9604\n",
      "val Loss: 0.0065, Acc: 1.0000\n",
      "Epoch 17/24\n",
      "----------\n",
      "train Loss: 0.1376, Acc: 0.9653\n",
      "val Loss: 0.0065, Acc: 1.0000\n",
      "Epoch 18/24\n",
      "----------\n",
      "train Loss: 0.1242, Acc: 0.9307\n",
      "val Loss: 0.0066, Acc: 1.0000\n",
      "Epoch 19/24\n",
      "----------\n",
      "train Loss: 0.0484, Acc: 0.9802\n",
      "val Loss: 0.0066, Acc: 1.0000\n",
      "Epoch 20/24\n",
      "----------\n",
      "train Loss: 0.1142, Acc: 0.9406\n",
      "val Loss: 0.0066, Acc: 1.0000\n",
      "Epoch 21/24\n",
      "----------\n",
      "train Loss: 0.0740, Acc: 0.9703\n",
      "val Loss: 0.0066, Acc: 1.0000\n",
      "Epoch 22/24\n",
      "----------\n",
      "train Loss: 0.0580, Acc: 0.9752\n",
      "val Loss: 0.0066, Acc: 1.0000\n",
      "Epoch 23/24\n",
      "----------\n",
      "train Loss: 0.0512, Acc: 0.9802\n",
      "val Loss: 0.0066, Acc: 1.0000\n",
      "Epoch 24/24\n",
      "----------\n",
      "train Loss: 0.0979, Acc: 0.9554\n",
      "val Loss: 0.0066, Acc: 1.0000\n",
      "Training Complete in 32m 38s\n",
      "Best Val Acc: 1.0000\n"
     ]
    }
   ],
   "source": [
    "vgg16_ft = trainer(vgg16, criterion, optimizer, lr_scheduler)"
   ]
  },
  {
   "cell_type": "markdown",
   "metadata": {},
   "source": [
    "# Visualizing the model predictions"
   ]
  },
  {
   "cell_type": "code",
   "execution_count": 10,
   "metadata": {},
   "outputs": [],
   "source": [
    "def visualization(image: torch.Tensor, title=None):\n",
    "    image = image.numpy().transpose((1, 2, 0))  # (228, 906, 3) height, width, channel\n",
    "    mean = np.array([0.485, 0.456, 0.406])\n",
    "    std = np.array([0.229, 0.224, 0.225])\n",
    "    image = std * image + mean\n",
    "    \n",
    "    # Given an interval, values outside the interval are clipped to the interval edges.\n",
    "    image = np.clip(image, 0, 1)\n",
    "    \n",
    "    plt.imshow(image)\n",
    "    if title is not None:\n",
    "        plt.title(title)\n",
    "    \n",
    "    # pause a bit so that plots are updated\n",
    "    plt.pause(0.001)"
   ]
  },
  {
   "cell_type": "code",
   "execution_count": 11,
   "metadata": {},
   "outputs": [],
   "source": [
    "def visualize_model(model, num_images=6):\n",
    "    was_training = model.training\n",
    "    model.eval()\n",
    "    images_so_far = 0\n",
    "    fig = plt.figure()\n",
    "\n",
    "    with torch.no_grad():\n",
    "        for i, (inputs, targets) in enumerate(dataloaders['val']):\n",
    "\n",
    "            outputs = model(inputs)\n",
    "            _, preds = torch.max(outputs, 1)\n",
    "\n",
    "            for j in range(inputs.size()[0]):\n",
    "                images_so_far += 1\n",
    "                ax = plt.subplot(num_images//2, 2, images_so_far)\n",
    "                ax.axis('off')\n",
    "                ax.set_title('predicted: {}'.format(class_name[preds[j]]))\n",
    "                visualization(inputs.cpu().data[j])\n",
    "\n",
    "                if images_so_far == num_images:\n",
    "                    model.train(mode=was_training)\n",
    "                    return\n",
    "        model.train(mode=was_training)"
   ]
  },
  {
   "cell_type": "code",
   "execution_count": 12,
   "metadata": {},
   "outputs": [
    {
     "data": {
      "image/png": "[encoded data removed]",
      "text/plain": [
       "<Figure size 432x288 with 1 Axes>"
      ]
     },
     "metadata": {
      "needs_background": "light"
     },
     "output_type": "display_data"
    },
    {
     "data": {
      "image/png": "[encoded data removed]",
      "text/plain": [
       "<Figure size 432x288 with 1 Axes>"
      ]
     },
     "metadata": {
      "needs_background": "light"
     },
     "output_type": "display_data"
    },
    {
     "data": {
      "image/png": "[encoded data removed]",
      "text/plain": [
       "<Figure size 432x288 with 1 Axes>"
      ]
     },
     "metadata": {
      "needs_background": "light"
     },
     "output_type": "display_data"
    },
    {
     "data": {
      "image/png": "[encoded data removed]",
      "text/plain": [
       "<Figure size 432x288 with 1 Axes>"
      ]
     },
     "metadata": {
      "needs_background": "light"
     },
     "output_type": "display_data"
    },
    {
     "data": {
      "image/png": "[encoded data removed]",
      "text/plain": [
       "<Figure size 432x288 with 1 Axes>"
      ]
     },
     "metadata": {
      "needs_background": "light"
     },
     "output_type": "display_data"
    },
    {
     "data": {
      "image/png": "[encoded data removed]",
      "text/plain": [
       "<Figure size 432x288 with 1 Axes>"
      ]
     },
     "metadata": {
      "needs_background": "light"
     },
     "output_type": "display_data"
    }
   ],
   "source": [
    "visualize_model(vgg16_ft)"
   ]
  }
 ],
 "metadata": {
  "kernelspec": {
   "display_name": "Python 3",
   "language": "python",
   "name": "python3"
  },
  "language_info": {
   "codemirror_mode": {
    "name": "ipython",
    "version": 3
   },
   "file_extension": ".py",
   "mimetype": "text/x-python",
   "name": "python",
   "nbconvert_exporter": "python",
   "pygments_lexer": "ipython3",
   "version": "3.6.12"
  }
 },
 "nbformat": 4,
 "nbformat_minor": 5
}
